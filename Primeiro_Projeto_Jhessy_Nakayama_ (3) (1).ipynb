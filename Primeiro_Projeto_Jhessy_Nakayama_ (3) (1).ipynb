{
  "nbformat": 4,
  "nbformat_minor": 0,
  "metadata": {
    "colab": {
      "provenance": [],
      "toc_visible": true
    },
    "kernelspec": {
      "name": "python3",
      "display_name": "Python 3"
    },
    "language_info": {
      "name": "python"
    }
  },
  "cells": [
    {
      "cell_type": "markdown",
      "source": [
        "# Mensagem de Boas Vindas"
      ],
      "metadata": {
        "id": "4FA5aajlBXwL"
      }
    },
    {
      "cell_type": "code",
      "source": [
        "print(\"Bem Vindo - 1º Calculadora Simples\")"
      ],
      "metadata": {
        "colab": {
          "base_uri": "https://localhost:8080/"
        },
        "id": "w56nK21tBw20",
        "outputId": "a2fd6d78-3502-47dd-e311-b16134768d77"
      },
      "execution_count": 1,
      "outputs": [
        {
          "output_type": "stream",
          "name": "stdout",
          "text": [
            "Bem Vindo - 1º Calculadora Simples\n"
          ]
        }
      ]
    },
    {
      "cell_type": "markdown",
      "source": [
        "# Laço de Repetição das Operações"
      ],
      "metadata": {
        "id": "E0o8pyw8CIzY"
      }
    },
    {
      "cell_type": "markdown",
      "source": [
        "# Receber números dos usuários"
      ],
      "metadata": {
        "id": "bZR0ZGSdDb6m"
      }
    },
    {
      "cell_type": "code",
      "source": [
        "num1 = float(input(\"1:\"))\n",
        "num2 = float(input(\"2:\"))"
      ],
      "metadata": {
        "colab": {
          "base_uri": "https://localhost:8080/"
        },
        "id": "JzzgDj3dDggm",
        "outputId": "da4e01be-fa6c-4624-bc78-f603d34a8ac8"
      },
      "execution_count": 90,
      "outputs": [
        {
          "name": "stdout",
          "output_type": "stream",
          "text": [
            "1:16\n",
            "2:59\n"
          ]
        }
      ]
    },
    {
      "cell_type": "markdown",
      "source": [
        "# Menu de Operações"
      ],
      "metadata": {
        "id": "wzz0K7kfFN1y"
      }
    },
    {
      "cell_type": "code",
      "source": [
        "print(\"\\nEscolha a operação desejada:\")\n",
        "print(\"1 - Adição (+)\")\n",
        "print(\"2 - Subtração (-)\")\n",
        "print(\"3 - Multiplicação (*)\")\n",
        "print(\"4 - Divisão (/)\")\n",
        "print(\"5 - Sair\")"
      ],
      "metadata": {
        "colab": {
          "base_uri": "https://localhost:8080/"
        },
        "id": "hRqtgLYSFSn9",
        "outputId": "16fdd09e-a1c1-459c-f100-bb5c24e70f57"
      },
      "execution_count": 10,
      "outputs": [
        {
          "output_type": "stream",
          "name": "stdout",
          "text": [
            "\n",
            "Escolha a operação desejada:\n",
            "1 - Adição (+)\n",
            "2 - Subtração (-)\n",
            "3 - Multiplicação (*)\n",
            "4 - Divisão (/)\n",
            "5 - Sair\n"
          ]
        }
      ]
    },
    {
      "cell_type": "markdown",
      "source": [
        "# Receber a escolha da Operação"
      ],
      "metadata": {
        "id": "_AWmKUYVGOcl"
      }
    },
    {
      "cell_type": "code",
      "source": [
        "escolha = input(\"Digite o número da Operação (ou 'Sair' para Finalizar)\")"
      ],
      "metadata": {
        "colab": {
          "base_uri": "https://localhost:8080/"
        },
        "id": "lZDc3UodGTth",
        "outputId": "8f9923ac-cda9-4d29-f983-6c7e1a7c565f"
      },
      "execution_count": 103,
      "outputs": [
        {
          "name": "stdout",
          "output_type": "stream",
          "text": [
            "Digite o número da Operação (ou 'Sair' para Finalizar)sair\n"
          ]
        }
      ]
    },
    {
      "cell_type": "markdown",
      "source": [
        "# Calculo da Operação Escolhida"
      ],
      "metadata": {
        "id": "Y0pQrHmnIR_W"
      }
    },
    {
      "cell_type": "code",
      "source": [
        "if escolha == '1':\n",
        "    resultado = num1 + num2\n",
        "    print(f\"O Resultado da soma é:{resultado}\")"
      ],
      "metadata": {
        "id": "HPH1Ud_WIev1"
      },
      "execution_count": 94,
      "outputs": []
    },
    {
      "cell_type": "code",
      "source": [
        "if escolha == '2':\n",
        "    resultado = num1 - num2\n",
        "    print(f\"O Resultado da Subtração é:{resultado}\")"
      ],
      "metadata": {
        "id": "wwyO_tFkMjk0"
      },
      "execution_count": 95,
      "outputs": []
    },
    {
      "cell_type": "code",
      "source": [
        "if escolha == '3':\n",
        "    resultado = num1 * num2\n",
        "    print(f\"O Resultado da Multiplicação é:{resultado}\")"
      ],
      "metadata": {
        "colab": {
          "base_uri": "https://localhost:8080/"
        },
        "id": "kiv8nXklM9ok",
        "outputId": "ad18d72e-f3e5-4530-e88c-8e36dedf282f"
      },
      "execution_count": 96,
      "outputs": [
        {
          "output_type": "stream",
          "name": "stdout",
          "text": [
            "O Resultado da Multiplicação é:944.0\n"
          ]
        }
      ]
    },
    {
      "cell_type": "code",
      "source": [
        "if escolha == '4':\n",
        "    resultado = num1 / num2\n",
        "    print(f\"O Resultado da Divisão é:{resultado}\")"
      ],
      "metadata": {
        "id": "rdW1AkXKNTKB"
      },
      "execution_count": 97,
      "outputs": []
    },
    {
      "cell_type": "markdown",
      "source": [
        "# Verifique se o segundo numero não é zero para evitar divisão por zero"
      ],
      "metadata": {
        "id": "V4yqsQi5OaMK"
      }
    },
    {
      "cell_type": "code",
      "source": [
        "if num2 != 0:\n",
        "    resultado = num1 / num2\n",
        "    print (f\"O Resultado da Divisão é {resultado}\")"
      ],
      "metadata": {
        "colab": {
          "base_uri": "https://localhost:8080/"
        },
        "id": "RFwdjxNMO02N",
        "outputId": "2ef261fb-dda9-4d2c-cc59-4ed9f6051e59"
      },
      "execution_count": 98,
      "outputs": [
        {
          "output_type": "stream",
          "name": "stdout",
          "text": [
            "O Resultado da Divisão é 0.2711864406779661\n"
          ]
        }
      ]
    },
    {
      "cell_type": "code",
      "source": [
        "print(\"Erro: Não é possível dividir por zero.\")"
      ],
      "metadata": {
        "colab": {
          "base_uri": "https://localhost:8080/"
        },
        "id": "InIai8xONqX8",
        "outputId": "96a1d6f1-ebc9-45a0-f731-8b702e6f0aed"
      },
      "execution_count": 99,
      "outputs": [
        {
          "output_type": "stream",
          "name": "stdout",
          "text": [
            "Erro: Não é possível dividir por zero.\n"
          ]
        }
      ]
    },
    {
      "cell_type": "markdown",
      "source": [
        "# Sair do Loop se Usuario Digitar 'Sair'"
      ],
      "metadata": {
        "id": "R6a3K8QPVGQL"
      }
    },
    {
      "cell_type": "code",
      "source": [
        "if escolha.lower() == 'sair':\n",
        "  print(\"Obrigada por usar a Calculadora simples!\")"
      ],
      "metadata": {
        "colab": {
          "base_uri": "https://localhost:8080/"
        },
        "id": "PMfNhGUrNbFu",
        "outputId": "70d938c6-cb09-4c8b-e77a-ac49301d3044"
      },
      "execution_count": 104,
      "outputs": [
        {
          "output_type": "stream",
          "name": "stdout",
          "text": [
            "Obrigada por usar a Calculadora simples!\n"
          ]
        }
      ]
    },
    {
      "cell_type": "code",
      "source": [
        "print(\"Opção inválida tente novamente.\")"
      ],
      "metadata": {
        "colab": {
          "base_uri": "https://localhost:8080/"
        },
        "id": "SjunEeyrSsq6",
        "outputId": "e5a07be2-a872-433f-cc0b-3be91b3ea411"
      },
      "execution_count": 105,
      "outputs": [
        {
          "output_type": "stream",
          "name": "stdout",
          "text": [
            "Opção inválida tente novamente.\n"
          ]
        }
      ]
    },
    {
      "cell_type": "code",
      "source": [],
      "metadata": {
        "id": "Z1mTLhuWS0zk"
      },
      "execution_count": null,
      "outputs": []
    }
  ]
}